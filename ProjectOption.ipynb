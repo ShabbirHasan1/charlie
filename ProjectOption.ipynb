{
 "cells": [
  {
   "cell_type": "code",
   "execution_count": 2,
   "id": "ca403116",
   "metadata": {},
   "outputs": [
    {
     "name": "stdout",
     "output_type": "stream",
     "text": [
      "        open     high      low    close\n",
      "0    1020.15  1029.80  1020.15  1029.80\n",
      "1    1029.80  1029.80  1022.05  1023.05\n",
      "2    1023.05  1026.55  1020.00  1020.00\n",
      "3    1020.00  1020.00  1010.85  1010.85\n",
      "4    1010.85  1030.45  1010.85  1030.45\n",
      "..       ...      ...      ...      ...\n",
      "436  1003.00  1003.00   997.50   997.50\n",
      "437   997.50   998.35   993.35   993.35\n",
      "438   993.35   993.35   985.80   985.80\n",
      "439   985.80   999.20   985.00   985.00\n",
      "440   985.00   999.90   980.25   999.90\n",
      "\n",
      "[441 rows x 4 columns]\n"
     ]
    }
   ],
   "source": [
    "import pandas as pd\n",
    "data = pd.read_csv(\"/home/ubuntu/charlie/workspace/BANKNIFTY21JUN34500CE_ohlc61.csv\")\n",
    "data.head()\n",
    "print(data[['open', 'high', 'low', 'close']])\n"
   ]
  },
  {
   "cell_type": "code",
   "execution_count": null,
   "id": "aed79053",
   "metadata": {},
   "outputs": [],
   "source": [
    "# import talib as ta\n",
    "# data['rsi'] = ta.RSI(data.close, timeperiod=21)\n",
    "\n",
    "# data['rsi'].plot()\n",
    "\n",
    "import finplot as fplt\n",
    "fplt.candlestick_ochl(data[['open', 'high', 'low', 'close']])\n",
    "fplt.show()"
   ]
  }
 ],
 "metadata": {
  "kernelspec": {
   "display_name": "Python 3",
   "language": "python",
   "name": "python3"
  },
  "language_info": {
   "codemirror_mode": {
    "name": "ipython",
    "version": 3
   },
   "file_extension": ".py",
   "mimetype": "text/x-python",
   "name": "python",
   "nbconvert_exporter": "python",
   "pygments_lexer": "ipython3",
   "version": "3.8.5"
  }
 },
 "nbformat": 4,
 "nbformat_minor": 5
}
