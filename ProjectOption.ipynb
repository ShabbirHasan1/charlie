{
 "cells": [
  {
   "cell_type": "code",
   "execution_count": 18,
   "id": "ca403116",
   "metadata": {},
   "outputs": [
    {
     "data": {
      "text/html": [
       "<div>\n",
       "<style scoped>\n",
       "    .dataframe tbody tr th:only-of-type {\n",
       "        vertical-align: middle;\n",
       "    }\n",
       "\n",
       "    .dataframe tbody tr th {\n",
       "        vertical-align: top;\n",
       "    }\n",
       "\n",
       "    .dataframe thead th {\n",
       "        text-align: right;\n",
       "    }\n",
       "</style>\n",
       "<table border=\"1\" class=\"dataframe\">\n",
       "  <thead>\n",
       "    <tr style=\"text-align: right;\">\n",
       "      <th></th>\n",
       "      <th>timestamp</th>\n",
       "      <th>open</th>\n",
       "      <th>high</th>\n",
       "      <th>low</th>\n",
       "      <th>close</th>\n",
       "      <th>volume</th>\n",
       "    </tr>\n",
       "  </thead>\n",
       "  <tbody>\n",
       "    <tr>\n",
       "      <th>0</th>\n",
       "      <td>2021:05:31 09:34:10</td>\n",
       "      <td>474.25</td>\n",
       "      <td>485.00</td>\n",
       "      <td>471.35</td>\n",
       "      <td>476.20</td>\n",
       "      <td>4375</td>\n",
       "    </tr>\n",
       "    <tr>\n",
       "      <th>1</th>\n",
       "      <td>2021:05:31 09:35:46</td>\n",
       "      <td>474.40</td>\n",
       "      <td>475.20</td>\n",
       "      <td>442.05</td>\n",
       "      <td>448.15</td>\n",
       "      <td>5350</td>\n",
       "    </tr>\n",
       "    <tr>\n",
       "      <th>2</th>\n",
       "      <td>2021:05:31 09:37:17</td>\n",
       "      <td>448.55</td>\n",
       "      <td>452.05</td>\n",
       "      <td>432.10</td>\n",
       "      <td>437.50</td>\n",
       "      <td>5850</td>\n",
       "    </tr>\n",
       "    <tr>\n",
       "      <th>3</th>\n",
       "      <td>2021:05:31 09:38:49</td>\n",
       "      <td>436.90</td>\n",
       "      <td>438.70</td>\n",
       "      <td>419.00</td>\n",
       "      <td>419.00</td>\n",
       "      <td>4250</td>\n",
       "    </tr>\n",
       "    <tr>\n",
       "      <th>4</th>\n",
       "      <td>2021:05:31 09:40:17</td>\n",
       "      <td>417.90</td>\n",
       "      <td>424.90</td>\n",
       "      <td>385.00</td>\n",
       "      <td>390.60</td>\n",
       "      <td>5900</td>\n",
       "    </tr>\n",
       "  </tbody>\n",
       "</table>\n",
       "</div>"
      ],
      "text/plain": [
       "             timestamp    open    high     low   close  volume\n",
       "0  2021:05:31 09:34:10  474.25  485.00  471.35  476.20    4375\n",
       "1  2021:05:31 09:35:46  474.40  475.20  442.05  448.15    5350\n",
       "2  2021:05:31 09:37:17  448.55  452.05  432.10  437.50    5850\n",
       "3  2021:05:31 09:38:49  436.90  438.70  419.00  419.00    4250\n",
       "4  2021:05:31 09:40:17  417.90  424.90  385.00  390.60    5900"
      ]
     },
     "execution_count": 18,
     "metadata": {},
     "output_type": "execute_result"
    }
   ],
   "source": [
    "import pandas as pd\n",
    "data = pd.read_csv(\"/home/ubuntu/charlie/rootdir/pe_ticks.csv\")\n",
    "data.head()\n"
   ]
  },
  {
   "cell_type": "code",
   "execution_count": 19,
   "id": "aed79053",
   "metadata": {},
   "outputs": [
    {
     "name": "stdout",
     "output_type": "stream",
     "text": [
      "22.702850223720155\n"
     ]
    },
    {
     "data": {
      "image/png": "[encoded data removed]",
      "text/plain": [
       "<Figure size 432x288 with 1 Axes>"
      ]
     },
     "metadata": {
      "needs_background": "light"
     },
     "output_type": "display_data"
    }
   ],
   "source": [
    "import talib as ta\n",
    "data['rsi'] = ta.RSI(data.close, timeperiod=21)\n",
    "\n",
    "data['rsi'].plot()\n",
    "print(data['rsi'].min())"
   ]
  }
 ],
 "metadata": {
  "kernelspec": {
   "display_name": "Python 3",
   "language": "python",
   "name": "python3"
  },
  "language_info": {
   "codemirror_mode": {
    "name": "ipython",
    "version": 3
   },
   "file_extension": ".py",
   "mimetype": "text/x-python",
   "name": "python",
   "nbconvert_exporter": "python",
   "pygments_lexer": "ipython3",
   "version": "3.8.5"
  }
 },
 "nbformat": 4,
 "nbformat_minor": 5
}
